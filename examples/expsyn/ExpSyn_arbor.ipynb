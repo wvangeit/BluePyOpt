{
 "cells": [
  {
   "cell_type": "markdown",
   "metadata": {},
   "source": [
    "# Optimising synaptic parameters in Arbor"
   ]
  },
  {
   "cell_type": "markdown",
   "metadata": {},
   "source": [
    "This notebook shows how the parameters of an Arbor point process (in this case a synapse), can be optimised using BluePyOpt."
   ]
  },
  {
   "cell_type": "markdown",
   "metadata": {},
   "source": [
    "First some initial setup:"
   ]
  },
  {
   "cell_type": "code",
   "execution_count": 1,
   "metadata": {},
   "outputs": [],
   "source": [
    "%matplotlib inline\n",
    "import matplotlib.pyplot as plt\n",
    "%reload_ext autoreload\n",
    "%autoreload\n",
    "\n",
    "import os\n",
    "\n",
    "import bluepyopt as bpopt\n",
    "import bluepyopt.ephys as ephys"
   ]
  },
  {
   "cell_type": "markdown",
   "metadata": {},
   "source": [
    "We need a Simulator (Arbor), Morphology (one compartment) and two Location objects (the 'somatic' sectionlist and the center of the soma)."
   ]
  },
  {
   "cell_type": "code",
   "execution_count": 2,
   "metadata": {},
   "outputs": [],
   "source": [
    "# Arbor simulator\n",
    "arb_sim = ephys.simulators.ArbSimulator()\n",
    "\n",
    "# Single compartment\n",
    "morph = ephys.morphologies.NrnFileMorphology('simple.swc')\n",
    "\n",
    "# Object that points to sectionlist somatic\n",
    "somatic_loc = ephys.locations.NrnSeclistLocation('somatic',seclist_name='somatic')\n",
    "\n",
    "# Object that points to the center of the soma\n",
    "somacenter_loc = ephys.locations.ArbLocsetLocation(\n",
    "    name='somacenter',\n",
    "    locset='(location 0 0.5)')"
   ]
  },
  {
   "cell_type": "markdown",
   "metadata": {},
   "source": [
    "We will also add a leak channel:"
   ]
  },
  {
   "cell_type": "code",
   "execution_count": 3,
   "metadata": {},
   "outputs": [],
   "source": [
    "pas_mech = ephys.mechanisms.NrnMODMechanism(                                    \n",
    "    name='pas',                                                                 \n",
    "    suffix='pas',                                                               \n",
    "    locations=[somatic_loc])                                                    "
   ]
  },
  {
   "cell_type": "markdown",
   "metadata": {},
   "source": [
    "Now comes the code which will add the synapse. We specify the suffix of the point process MOD file, and the location (or the list of locations) where to add it."
   ]
  },
  {
   "cell_type": "code",
   "execution_count": 4,
   "metadata": {},
   "outputs": [],
   "source": [
    "# Add ExpSyn synapse pointprocess at the center of the soma\n",
    "expsyn_mech = ephys.mechanisms.NrnMODPointProcessMechanism(                     \n",
    "    name='expsyn',                                                              \n",
    "    suffix='ExpSyn',                                                            \n",
    "    locations=[somacenter_loc])                                                 "
   ]
  },
  {
   "cell_type": "markdown",
   "metadata": {},
   "source": [
    "Once we have defined a point process, we can create a Location object that points to it"
   ]
  },
  {
   "cell_type": "code",
   "execution_count": 5,
   "metadata": {},
   "outputs": [],
   "source": [
    "expsyn_loc = ephys.locations.NrnPointProcessLocation(                           \n",
    "    'expsyn_loc',                                                               \n",
    "    pprocess_mech=expsyn_mech)                                                  "
   ]
  },
  {
   "cell_type": "markdown",
   "metadata": {},
   "source": [
    "Using this location, we can specify the parameters of the synapse. Let's fit the decay time constant:"
   ]
  },
  {
   "cell_type": "code",
   "execution_count": 6,
   "metadata": {},
   "outputs": [],
   "source": [
    "expsyn_tau_param = ephys.parameters.NrnPointProcessParameter(                   \n",
    "    name='expsyn_tau',                                                          \n",
    "    param_name='tau',                                                           \n",
    "    value=2,                                                                    \n",
    "    bounds=[0, 50],                                                             \n",
    "    locations=[expsyn_loc])"
   ]
  },
  {
   "cell_type": "markdown",
   "metadata": {},
   "source": [
    "Let's put all these concepts together in a cell model:"
   ]
  },
  {
   "cell_type": "code",
   "execution_count": 7,
   "metadata": {},
   "outputs": [],
   "source": [
    "cell = ephys.models.CellModel(                                               \n",
    "    name='simple_cell',                                                      \n",
    "    morph=morph,                                                             \n",
    "    mechs=[pas_mech, expsyn_mech],                                           \n",
    "    params=[expsyn_tau_param])                                     "
   ]
  },
  {
   "cell_type": "markdown",
   "metadata": {},
   "source": [
    "Now we need to define the fitness function. The idea is to stimulate the synapse 5 times, and let the resulting train of EPSPs reach exactly -50 mV.\n",
    "\n",
    "We first create a stimulus that injects the presynaptic events:"
   ]
  },
  {
   "cell_type": "code",
   "execution_count": 8,
   "metadata": {},
   "outputs": [],
   "source": [
    "stim_start = 20\n",
    "number = 5\n",
    "interval = 5\n",
    "\n",
    "netstim = ephys.stimuli.NrnNetStimStimulus(                                  \n",
    "    total_duration=200,                                                      \n",
    "    number=5,                                                                \n",
    "    interval=5,                                                              \n",
    "    start=stim_start,                                                        \n",
    "    weight=5e-4,                                                             \n",
    "    locations=[expsyn_loc])\n",
    "\n",
    "stim_end = stim_start + interval * number\n",
    "\n",
    "rec = ephys.recordings.CompRecording(\n",
    "    name='soma.v', \n",
    "    location=somacenter_loc,\n",
    "    variable='v')\n",
    "\n",
    "protocol = ephys.protocols.ArbSweepProtocol('netstim_protocol', [netstim], [rec])"
   ]
  },
  {
   "cell_type": "markdown",
   "metadata": {},
   "source": [
    "Then we define an eFELFeature that will target the maximum voltage and we put everything in an evaluator"
   ]
  },
  {
   "cell_type": "code",
   "execution_count": 9,
   "metadata": {},
   "outputs": [],
   "source": [
    "max_volt_feature = ephys.efeatures.eFELFeature(                              \n",
    "    'maximum_voltage',                                                       \n",
    "    efel_feature_name='maximum_voltage',                                     \n",
    "    recording_names={'': 'soma.v'},                                          \n",
    "    stim_start=stim_start,                                                   \n",
    "    stim_end=stim_end,                                                       \n",
    "    exp_mean=-50,                                                            \n",
    "    exp_std=.1)\n",
    "\n",
    "max_volt_objective = ephys.objectives.SingletonObjective(                    \n",
    "    max_volt_feature.name,                                                   \n",
    "    max_volt_feature)                       \n",
    "\n",
    "score_calc = ephys.objectivescalculators.ObjectivesCalculator(               \n",
    "    [max_volt_objective])                                                    \n",
    "\n",
    "cell_evaluator = ephys.evaluators.CellEvaluator(                             \n",
    "    cell_model=cell,                                                         \n",
    "    param_names=['expsyn_tau'],                                              \n",
    "    fitness_protocols={protocol.name: protocol},                             \n",
    "    fitness_calculator=score_calc,                                           \n",
    "    sim=arb_sim)                                                             "
   ]
  },
  {
   "cell_type": "markdown",
   "metadata": {},
   "source": [
    "Let's try out the evaluator with a decay time constant of 10.0"
   ]
  },
  {
   "cell_type": "code",
   "execution_count": 10,
   "metadata": {},
   "outputs": [
    {
     "name": "stdout",
     "output_type": "stream",
     "text": [
      "{'maximum_voltage': 29.690040424145465}\n"
     ]
    }
   ],
   "source": [
    "default_param_values = {'expsyn_tau': 10.0}                                  \n",
    "\n",
    "print(cell_evaluator.evaluate_with_dicts(default_param_values))              "
   ]
  },
  {
   "cell_type": "markdown",
   "metadata": {},
   "source": [
    "Now we can run the optimisation:"
   ]
  },
  {
   "cell_type": "code",
   "execution_count": 11,
   "metadata": {},
   "outputs": [],
   "source": [
    "optimisation = bpopt.optimisations.DEAPOptimisation(                         \n",
    "    evaluator=cell_evaluator,                                                \n",
    "    offspring_size=10)                                                       \n",
    "\n",
    "_, hall_of_fame, _, _ = optimisation.run(max_ngen=5)                         "
   ]
  },
  {
   "cell_type": "markdown",
   "metadata": {},
   "source": [
    "And then we can plot the best individual:"
   ]
  },
  {
   "cell_type": "code",
   "execution_count": 12,
   "metadata": {},
   "outputs": [
    {
     "name": "stdout",
     "output_type": "stream",
     "text": [
      "Best individual:  [14.03202650928813]\n",
      "Fitness values:  (1.1134864832433067,)\n"
     ]
    },
    {
     "data": {
      "image/png": "[encoded data removed]",
      "text/plain": [
       "<Figure size 432x288 with 1 Axes>"
      ]
     },
     "metadata": {},
     "output_type": "display_data"
    }
   ],
   "source": [
    "best_ind = hall_of_fame[0]                                                   \n",
    "\n",
    "print('Best individual: ', best_ind)\n",
    "print('Fitness values: ', best_ind.fitness.values)\n",
    "\n",
    "best_ind_dict = cell_evaluator.param_dict(best_ind)                          \n",
    "responses = protocol.run(                                                    \n",
    "    cell_model=cell,                                                         \n",
    "    param_values=best_ind_dict,                                              \n",
    "    sim=arb_sim)                                                             \n",
    "\n",
    "time = responses['soma.v']['time']                                           \n",
    "voltage = responses['soma.v']['voltage']                                     \n",
    "\n",
    "import matplotlib.pyplot as plt                                              \n",
    "plt.style.use('ggplot')                                                      \n",
    "plt.plot(time, voltage)                                                      \n",
    "plt.xlabel('Time (ms)')                                                      \n",
    "plt.ylabel('Voltage (mV)')                                                   \n",
    "plt.show()                                                                   "
   ]
  },
  {
   "cell_type": "code",
   "execution_count": null,
   "metadata": {},
   "outputs": [],
   "source": []
  }
 ],
 "metadata": {
  "kernelspec": {
   "display_name": "Python 3 (ipykernel)",
   "language": "python",
   "name": "python3"
  },
  "language_info": {
   "codemirror_mode": {
    "name": "ipython",
    "version": 3
   },
   "file_extension": ".py",
   "mimetype": "text/x-python",
   "name": "python",
   "nbconvert_exporter": "python",
   "pygments_lexer": "ipython3",
   "version": "3.8.10"
  },
  "vscode": {
   "interpreter": {
    "hash": "581988038cf9ce8838e7faf3da7c29f4ff88d898cd43cb17e0086e389d8deda2"
   }
  }
 },
 "nbformat": 4,
 "nbformat_minor": 4
}
